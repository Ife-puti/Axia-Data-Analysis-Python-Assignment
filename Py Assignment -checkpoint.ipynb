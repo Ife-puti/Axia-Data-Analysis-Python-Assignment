{
 "cells": [
  {
   "cell_type": "code",
   "execution_count": 1,
   "id": "7f2dceb6",
   "metadata": {},
   "outputs": [],
   "source": [
    "# Cell 1: Setup\n",
    "# !pip install pandas numpy matplotlib reportlab\n",
    "\n",
    "import os\n",
    "import re\n",
    "from pathlib import Path\n",
    "import numpy as np\n",
    "import pandas as pd\n",
    "import matplotlib.pyplot as plt\n",
    "\n",
    "# Where outputs will go\n",
    "OUT_DIR = Path(\"outputs\")\n",
    "FIG_DIR = OUT_DIR / \"figures\"\n",
    "TABLE_DIR = OUT_DIR / \"tables\"\n",
    "for d in (OUT_DIR, FIG_DIR, TABLE_DIR):\n",
    "    d.mkdir(parents=True, exist_ok=True)\n",
    "\n",
    "# Make plots render inline (Jupyter)\n",
    "%matplotlib inline\n"
   ]
  },
  {
   "cell_type": "code",
   "execution_count": 8,
   "id": "d3ef56be",
   "metadata": {},
   "outputs": [
    {
     "name": "stdout",
     "output_type": "stream",
     "text": [
      "Shape: (254, 10)\n"
     ]
    },
    {
     "data": {
      "text/html": [
       "<div>\n",
       "<style scoped>\n",
       "    .dataframe tbody tr th:only-of-type {\n",
       "        vertical-align: middle;\n",
       "    }\n",
       "\n",
       "    .dataframe tbody tr th {\n",
       "        vertical-align: top;\n",
       "    }\n",
       "\n",
       "    .dataframe thead th {\n",
       "        text-align: right;\n",
       "    }\n",
       "</style>\n",
       "<table border=\"1\" class=\"dataframe\">\n",
       "  <thead>\n",
       "    <tr style=\"text-align: right;\">\n",
       "      <th></th>\n",
       "      <th>Unnamed: 0</th>\n",
       "      <th>Order ID</th>\n",
       "      <th>Date</th>\n",
       "      <th>Product</th>\n",
       "      <th>Price</th>\n",
       "      <th>Quantity</th>\n",
       "      <th>Purchase Type</th>\n",
       "      <th>Payment Method</th>\n",
       "      <th>Manager</th>\n",
       "      <th>City</th>\n",
       "    </tr>\n",
       "  </thead>\n",
       "  <tbody>\n",
       "    <tr>\n",
       "      <th>0</th>\n",
       "      <td>NaN</td>\n",
       "      <td>10452</td>\n",
       "      <td>2022-11-07</td>\n",
       "      <td>Fries</td>\n",
       "      <td>3.49</td>\n",
       "      <td>573.065903</td>\n",
       "      <td>Online</td>\n",
       "      <td>Gift Card</td>\n",
       "      <td>Tom      Jackson</td>\n",
       "      <td>London</td>\n",
       "    </tr>\n",
       "    <tr>\n",
       "      <th>1</th>\n",
       "      <td>NaN</td>\n",
       "      <td>10453</td>\n",
       "      <td>2022-11-07</td>\n",
       "      <td>Beverages</td>\n",
       "      <td>2.95</td>\n",
       "      <td>745.762712</td>\n",
       "      <td>Online</td>\n",
       "      <td>Gift Card</td>\n",
       "      <td>Pablo Perez</td>\n",
       "      <td>Madrid</td>\n",
       "    </tr>\n",
       "    <tr>\n",
       "      <th>2</th>\n",
       "      <td>NaN</td>\n",
       "      <td>10454</td>\n",
       "      <td>2022-11-07</td>\n",
       "      <td>Sides &amp; Other</td>\n",
       "      <td>4.99</td>\n",
       "      <td>200.400802</td>\n",
       "      <td>In-store</td>\n",
       "      <td>Gift Card</td>\n",
       "      <td>Joao    Silva</td>\n",
       "      <td>Lisbon</td>\n",
       "    </tr>\n",
       "    <tr>\n",
       "      <th>3</th>\n",
       "      <td>NaN</td>\n",
       "      <td>10455</td>\n",
       "      <td>2022-11-08</td>\n",
       "      <td>Burgers</td>\n",
       "      <td>12.99</td>\n",
       "      <td>569.668976</td>\n",
       "      <td>In-store</td>\n",
       "      <td>Credit Card</td>\n",
       "      <td>Walter Muller</td>\n",
       "      <td>Berlin</td>\n",
       "    </tr>\n",
       "    <tr>\n",
       "      <th>4</th>\n",
       "      <td>NaN</td>\n",
       "      <td>10456</td>\n",
       "      <td>2022-11-08</td>\n",
       "      <td>Chicken Sandwiches</td>\n",
       "      <td>9.95</td>\n",
       "      <td>201.005025</td>\n",
       "      <td>In-store</td>\n",
       "      <td>Credit Card</td>\n",
       "      <td>Walter Muller</td>\n",
       "      <td>Berlin</td>\n",
       "    </tr>\n",
       "  </tbody>\n",
       "</table>\n",
       "</div>"
      ],
      "text/plain": [
       "   Unnamed: 0  Order ID       Date             Product  Price    Quantity  \\\n",
       "0         NaN     10452 2022-11-07               Fries   3.49  573.065903   \n",
       "1         NaN     10453 2022-11-07           Beverages   2.95  745.762712   \n",
       "2         NaN     10454 2022-11-07       Sides & Other   4.99  200.400802   \n",
       "3         NaN     10455 2022-11-08             Burgers  12.99  569.668976   \n",
       "4         NaN     10456 2022-11-08  Chicken Sandwiches   9.95  201.005025   \n",
       "\n",
       "  Purchase Type Payment Method             Manager    City  \n",
       "0       Online       Gift Card    Tom      Jackson  London  \n",
       "1       Online       Gift Card         Pablo Perez  Madrid  \n",
       "2     In-store       Gift Card       Joao    Silva  Lisbon  \n",
       "3     In-store     Credit Card       Walter Muller  Berlin  \n",
       "4     In-store     Credit Card       Walter Muller  Berlin  "
      ]
     },
     "metadata": {},
     "output_type": "display_data"
    },
    {
     "data": {
      "text/plain": [
       "Index(['Unnamed: 0', 'Order ID', 'Date', 'Product', 'Price', 'Quantity',\n",
       "       'Purchase Type', 'Payment Method', 'Manager', 'City'],\n",
       "      dtype='object')"
      ]
     },
     "metadata": {},
     "output_type": "display_data"
    }
   ],
   "source": [
    "# Cell 2: Load data\n",
    "\n",
    "DATA_PATH = \"C:\\\\Users\\\\User\\\\Documents\\\\Axia data class\\\\ASssignment\\\\Python_SalesData.xlsx\"\n",
    "df = pd.read_excel(DATA_PATH, header=1)\n",
    "\n",
    "# Show first rows and columns\n",
    "print(\"Shape:\", df.shape)\n",
    "display(df.head())\n",
    "display(df.columns)\n"
   ]
  },
  {
   "cell_type": "code",
   "execution_count": 16,
   "id": "a443fee5",
   "metadata": {},
   "outputs": [
    {
     "data": {
      "text/html": [
       "<div>\n",
       "<style scoped>\n",
       "    .dataframe tbody tr th:only-of-type {\n",
       "        vertical-align: middle;\n",
       "    }\n",
       "\n",
       "    .dataframe tbody tr th {\n",
       "        vertical-align: top;\n",
       "    }\n",
       "\n",
       "    .dataframe thead th {\n",
       "        text-align: right;\n",
       "    }\n",
       "</style>\n",
       "<table border=\"1\" class=\"dataframe\">\n",
       "  <thead>\n",
       "    <tr style=\"text-align: right;\">\n",
       "      <th></th>\n",
       "      <th>order_id</th>\n",
       "      <th>date</th>\n",
       "      <th>product</th>\n",
       "      <th>price</th>\n",
       "      <th>quantity</th>\n",
       "      <th>purchase_type</th>\n",
       "      <th>payment_method</th>\n",
       "      <th>manager</th>\n",
       "      <th>city</th>\n",
       "    </tr>\n",
       "  </thead>\n",
       "  <tbody>\n",
       "    <tr>\n",
       "      <th>0</th>\n",
       "      <td>10452</td>\n",
       "      <td>2022-11-07</td>\n",
       "      <td>Fries</td>\n",
       "      <td>3.49</td>\n",
       "      <td>573.065903</td>\n",
       "      <td>Online</td>\n",
       "      <td>Gift Card</td>\n",
       "      <td>Tom      Jackson</td>\n",
       "      <td>London</td>\n",
       "    </tr>\n",
       "    <tr>\n",
       "      <th>1</th>\n",
       "      <td>10453</td>\n",
       "      <td>2022-11-07</td>\n",
       "      <td>Beverages</td>\n",
       "      <td>2.95</td>\n",
       "      <td>745.762712</td>\n",
       "      <td>Online</td>\n",
       "      <td>Gift Card</td>\n",
       "      <td>Pablo Perez</td>\n",
       "      <td>Madrid</td>\n",
       "    </tr>\n",
       "    <tr>\n",
       "      <th>2</th>\n",
       "      <td>10454</td>\n",
       "      <td>2022-11-07</td>\n",
       "      <td>Sides &amp; Other</td>\n",
       "      <td>4.99</td>\n",
       "      <td>200.400802</td>\n",
       "      <td>In-store</td>\n",
       "      <td>Gift Card</td>\n",
       "      <td>Joao    Silva</td>\n",
       "      <td>Lisbon</td>\n",
       "    </tr>\n",
       "    <tr>\n",
       "      <th>3</th>\n",
       "      <td>10455</td>\n",
       "      <td>2022-11-08</td>\n",
       "      <td>Burgers</td>\n",
       "      <td>12.99</td>\n",
       "      <td>569.668976</td>\n",
       "      <td>In-store</td>\n",
       "      <td>Credit Card</td>\n",
       "      <td>Walter Muller</td>\n",
       "      <td>Berlin</td>\n",
       "    </tr>\n",
       "    <tr>\n",
       "      <th>4</th>\n",
       "      <td>10456</td>\n",
       "      <td>2022-11-08</td>\n",
       "      <td>Chicken Sandwiches</td>\n",
       "      <td>9.95</td>\n",
       "      <td>201.005025</td>\n",
       "      <td>In-store</td>\n",
       "      <td>Credit Card</td>\n",
       "      <td>Walter Muller</td>\n",
       "      <td>Berlin</td>\n",
       "    </tr>\n",
       "  </tbody>\n",
       "</table>\n",
       "</div>"
      ],
      "text/plain": [
       "   order_id       date             product  price    quantity purchase_type  \\\n",
       "0     10452 2022-11-07               Fries   3.49  573.065903       Online    \n",
       "1     10453 2022-11-07           Beverages   2.95  745.762712       Online    \n",
       "2     10454 2022-11-07       Sides & Other   4.99  200.400802     In-store    \n",
       "3     10455 2022-11-08             Burgers  12.99  569.668976     In-store    \n",
       "4     10456 2022-11-08  Chicken Sandwiches   9.95  201.005025     In-store    \n",
       "\n",
       "  payment_method             manager    city  \n",
       "0      Gift Card    Tom      Jackson  London  \n",
       "1      Gift Card         Pablo Perez  Madrid  \n",
       "2      Gift Card       Joao    Silva  Lisbon  \n",
       "3    Credit Card       Walter Muller  Berlin  \n",
       "4    Credit Card       Walter Muller  Berlin  "
      ]
     },
     "metadata": {},
     "output_type": "display_data"
    }
   ],
   "source": [
    "# Drop the 'unnamed_0' column if it exists\n",
    "if 'unnamed_0' in df.columns:\n",
    "    df = df.drop(columns=['unnamed_0'])\n",
    "\n",
    "# Drop any other columns with all NaN values (just in case)\n",
    "df = df.dropna(axis=1, how='all')\n",
    "\n",
    "# Reorder columns so 'orderid' is first\n",
    "cols = list(df.columns)\n",
    "if 'orderid' in cols:\n",
    "    cols.insert(0, cols.pop(cols.index('orderid')))\n",
    "    df = df[cols]\n",
    "\n",
    "display(df.head())"
   ]
  },
  {
   "cell_type": "code",
   "execution_count": 17,
   "id": "c296a862",
   "metadata": {},
   "outputs": [
    {
     "name": "stdout",
     "output_type": "stream",
     "text": [
      "Missing expected columns: ['orderid', 'purchase_time']\n"
     ]
    },
    {
     "data": {
      "text/html": [
       "<div>\n",
       "<style scoped>\n",
       "    .dataframe tbody tr th:only-of-type {\n",
       "        vertical-align: middle;\n",
       "    }\n",
       "\n",
       "    .dataframe tbody tr th {\n",
       "        vertical-align: top;\n",
       "    }\n",
       "\n",
       "    .dataframe thead th {\n",
       "        text-align: right;\n",
       "    }\n",
       "</style>\n",
       "<table border=\"1\" class=\"dataframe\">\n",
       "  <thead>\n",
       "    <tr style=\"text-align: right;\">\n",
       "      <th></th>\n",
       "      <th>order_id</th>\n",
       "      <th>date</th>\n",
       "      <th>product</th>\n",
       "      <th>price</th>\n",
       "      <th>quantity</th>\n",
       "      <th>purchase_type</th>\n",
       "      <th>payment_method</th>\n",
       "      <th>manager</th>\n",
       "      <th>city</th>\n",
       "    </tr>\n",
       "  </thead>\n",
       "  <tbody>\n",
       "    <tr>\n",
       "      <th>0</th>\n",
       "      <td>10452</td>\n",
       "      <td>2022-11-07</td>\n",
       "      <td>Fries</td>\n",
       "      <td>3.49</td>\n",
       "      <td>573.065903</td>\n",
       "      <td>Online</td>\n",
       "      <td>Gift Card</td>\n",
       "      <td>Tom      Jackson</td>\n",
       "      <td>London</td>\n",
       "    </tr>\n",
       "    <tr>\n",
       "      <th>1</th>\n",
       "      <td>10453</td>\n",
       "      <td>2022-11-07</td>\n",
       "      <td>Beverages</td>\n",
       "      <td>2.95</td>\n",
       "      <td>745.762712</td>\n",
       "      <td>Online</td>\n",
       "      <td>Gift Card</td>\n",
       "      <td>Pablo Perez</td>\n",
       "      <td>Madrid</td>\n",
       "    </tr>\n",
       "    <tr>\n",
       "      <th>2</th>\n",
       "      <td>10454</td>\n",
       "      <td>2022-11-07</td>\n",
       "      <td>Sides &amp; Other</td>\n",
       "      <td>4.99</td>\n",
       "      <td>200.400802</td>\n",
       "      <td>In-store</td>\n",
       "      <td>Gift Card</td>\n",
       "      <td>Joao    Silva</td>\n",
       "      <td>Lisbon</td>\n",
       "    </tr>\n",
       "    <tr>\n",
       "      <th>3</th>\n",
       "      <td>10455</td>\n",
       "      <td>2022-11-08</td>\n",
       "      <td>Burgers</td>\n",
       "      <td>12.99</td>\n",
       "      <td>569.668976</td>\n",
       "      <td>In-store</td>\n",
       "      <td>Credit Card</td>\n",
       "      <td>Walter Muller</td>\n",
       "      <td>Berlin</td>\n",
       "    </tr>\n",
       "    <tr>\n",
       "      <th>4</th>\n",
       "      <td>10456</td>\n",
       "      <td>2022-11-08</td>\n",
       "      <td>Chicken Sandwiches</td>\n",
       "      <td>9.95</td>\n",
       "      <td>201.005025</td>\n",
       "      <td>In-store</td>\n",
       "      <td>Credit Card</td>\n",
       "      <td>Walter Muller</td>\n",
       "      <td>Berlin</td>\n",
       "    </tr>\n",
       "  </tbody>\n",
       "</table>\n",
       "</div>"
      ],
      "text/plain": [
       "   order_id       date             product  price    quantity purchase_type  \\\n",
       "0     10452 2022-11-07               Fries   3.49  573.065903       Online    \n",
       "1     10453 2022-11-07           Beverages   2.95  745.762712       Online    \n",
       "2     10454 2022-11-07       Sides & Other   4.99  200.400802     In-store    \n",
       "3     10455 2022-11-08             Burgers  12.99  569.668976     In-store    \n",
       "4     10456 2022-11-08  Chicken Sandwiches   9.95  201.005025     In-store    \n",
       "\n",
       "  payment_method             manager    city  \n",
       "0      Gift Card    Tom      Jackson  London  \n",
       "1      Gift Card         Pablo Perez  Madrid  \n",
       "2      Gift Card       Joao    Silva  Lisbon  \n",
       "3    Credit Card       Walter Muller  Berlin  \n",
       "4    Credit Card       Walter Muller  Berlin  "
      ]
     },
     "metadata": {},
     "output_type": "display_data"
    }
   ],
   "source": [
    "# Cell 3: Standardize column names (snake_case, no extra spaces)\n",
    "def to_snake(s):\n",
    "    s = str(s)\n",
    "    s = s.strip().lower()\n",
    "    s = re.sub(r\"[^\\w\\s]\", \"\", s)\n",
    "    s = re.sub(r\"\\s+\", \"_\", s)\n",
    "    return s\n",
    "\n",
    "df.columns = [to_snake(c) for c in df.columns]\n",
    "df.rename(columns={\n",
    "    \"purchase_time\": \"purchase_time\",    \n",
    "    \"payment_method\": \"payment_method\",\n",
    "}, inplace=True)\n",
    "\n",
    "# To ensure the columns specified exist:\n",
    "expected = [\"orderid\",\"date\",\"product\",\"price\",\"quantity\",\"purchase_time\",\"payment_method\",\"manager\",\"city\"]\n",
    "print(\"Missing expected columns:\", [c for c in expected if c not in df.columns])\n",
    "display(df.head())\n"
   ]
  },
  {
   "cell_type": "code",
   "execution_count": 18,
   "id": "e837cf5f",
   "metadata": {},
   "outputs": [
    {
     "name": "stdout",
     "output_type": "stream",
     "text": [
      "   order_id       date             product  price    quantity purchase_type  \\\n",
      "0     10452 2022-11-07               Fries   3.49  573.065903       Online    \n",
      "1     10453 2022-11-07           Beverages   2.95  745.762712       Online    \n",
      "2     10454 2022-11-07       Sides & Other   4.99  200.400802     In-store    \n",
      "3     10455 2022-11-08             Burgers  12.99  569.668976     In-store    \n",
      "4     10456 2022-11-08  Chicken Sandwiches   9.95  201.005025     In-store    \n",
      "\n",
      "  payment_method             manager    city  \n",
      "0      Gift Card    Tom      Jackson  London  \n",
      "1      Gift Card         Pablo Perez  Madrid  \n",
      "2      Gift Card       Joao    Silva  Lisbon  \n",
      "3    Credit Card       Walter Muller  Berlin  \n",
      "4    Credit Card       Walter Muller  Berlin  \n"
     ]
    }
   ],
   "source": [
    "print(df.head(5))"
   ]
  },
  {
   "cell_type": "code",
   "execution_count": 21,
   "id": "465a9c25",
   "metadata": {},
   "outputs": [
    {
     "name": "stdout",
     "output_type": "stream",
     "text": [
      "['order_id', 'date', 'product', 'price', 'quantity', 'purchase_type', 'payment_method', 'manager', 'city', 'revenue']\n"
     ]
    }
   ],
   "source": [
    "print(df.columns.tolist())"
   ]
  },
  {
   "cell_type": "code",
   "execution_count": 24,
   "id": "72bb14cd",
   "metadata": {},
   "outputs": [],
   "source": [
    "# Normalize expected names\n",
    "colmap = {\n",
    "    'orderid': 'order_id',\n",
    "    'date': 'date',\n",
    "    'product': 'product',\n",
    "    'price': 'price',\n",
    "    'quantity': 'quantity'\n",
    "}\n",
    "\n",
    "# Build critical list from what's available\n",
    "critical = [v for v in colmap.values() if v in df.columns]\n",
    "df = df.dropna(subset=critical)"
   ]
  },
  {
   "cell_type": "code",
   "execution_count": 26,
   "id": "0b3f57e9",
   "metadata": {},
   "outputs": [
    {
     "name": "stdout",
     "output_type": "stream",
     "text": [
      "Rows before dropping missing critical fields: 254\n",
      "Rows after dropping missing critical fields: 254\n"
     ]
    },
    {
     "data": {
      "text/html": [
       "<div>\n",
       "<style scoped>\n",
       "    .dataframe tbody tr th:only-of-type {\n",
       "        vertical-align: middle;\n",
       "    }\n",
       "\n",
       "    .dataframe tbody tr th {\n",
       "        vertical-align: top;\n",
       "    }\n",
       "\n",
       "    .dataframe thead th {\n",
       "        text-align: right;\n",
       "    }\n",
       "</style>\n",
       "<table border=\"1\" class=\"dataframe\">\n",
       "  <thead>\n",
       "    <tr style=\"text-align: right;\">\n",
       "      <th></th>\n",
       "      <th>order_id</th>\n",
       "      <th>date</th>\n",
       "      <th>product</th>\n",
       "      <th>price</th>\n",
       "      <th>quantity</th>\n",
       "      <th>revenue</th>\n",
       "    </tr>\n",
       "  </thead>\n",
       "  <tbody>\n",
       "    <tr>\n",
       "      <th>0</th>\n",
       "      <td>10452</td>\n",
       "      <td>2022-11-07</td>\n",
       "      <td>Fries</td>\n",
       "      <td>3.49</td>\n",
       "      <td>573.065903</td>\n",
       "      <td>2000.0</td>\n",
       "    </tr>\n",
       "    <tr>\n",
       "      <th>1</th>\n",
       "      <td>10453</td>\n",
       "      <td>2022-11-07</td>\n",
       "      <td>Beverages</td>\n",
       "      <td>2.95</td>\n",
       "      <td>745.762712</td>\n",
       "      <td>2200.0</td>\n",
       "    </tr>\n",
       "    <tr>\n",
       "      <th>2</th>\n",
       "      <td>10454</td>\n",
       "      <td>2022-11-07</td>\n",
       "      <td>Sides &amp; Other</td>\n",
       "      <td>4.99</td>\n",
       "      <td>200.400802</td>\n",
       "      <td>1000.0</td>\n",
       "    </tr>\n",
       "    <tr>\n",
       "      <th>3</th>\n",
       "      <td>10455</td>\n",
       "      <td>2022-11-08</td>\n",
       "      <td>Burgers</td>\n",
       "      <td>12.99</td>\n",
       "      <td>569.668976</td>\n",
       "      <td>7400.0</td>\n",
       "    </tr>\n",
       "    <tr>\n",
       "      <th>4</th>\n",
       "      <td>10456</td>\n",
       "      <td>2022-11-08</td>\n",
       "      <td>Chicken Sandwiches</td>\n",
       "      <td>9.95</td>\n",
       "      <td>201.005025</td>\n",
       "      <td>2000.0</td>\n",
       "    </tr>\n",
       "  </tbody>\n",
       "</table>\n",
       "</div>"
      ],
      "text/plain": [
       "   order_id       date             product  price    quantity  revenue\n",
       "0     10452 2022-11-07               Fries   3.49  573.065903   2000.0\n",
       "1     10453 2022-11-07           Beverages   2.95  745.762712   2200.0\n",
       "2     10454 2022-11-07       Sides & Other   4.99  200.400802   1000.0\n",
       "3     10455 2022-11-08             Burgers  12.99  569.668976   7400.0\n",
       "4     10456 2022-11-08  Chicken Sandwiches   9.95  201.005025   2000.0"
      ]
     },
     "metadata": {},
     "output_type": "display_data"
    }
   ],
   "source": [
    "# Cell 4: Cleaning and type conversion\n",
    "# 1) Date: parse to datetime\n",
    "\n",
    "df['date'] = pd.to_datetime(df['date'], errors='coerce')\n",
    "\n",
    "# 2) Price: remove currency symbols/commas and convert to numeric\n",
    "\n",
    "df['price'] = df['price'].astype(str).str.replace(r\"[,₦$\\s]\", \"\", regex=True)\n",
    "df['price'] = pd.to_numeric(df['price'], errors='coerce')\n",
    "\n",
    "# 3) Quantity: ensure numeric\n",
    "\n",
    "df['quantity'] = pd.to_numeric(df['quantity'], errors='coerce')\n",
    "\n",
    "# 4) Derive revenue = price * quantity (new column)\n",
    "\n",
    "df['revenue'] = df['price'] * df['quantity']\n",
    "\n",
    "# 6) Drop duplicates and check for missing critical values\n",
    "\n",
    "df = df.drop_duplicates()\n",
    "critical = ['order_id','date','product','price','quantity']\n",
    "print(\"Rows before dropping missing critical fields:\", len(df))\n",
    "df = df.dropna(subset=critical)\n",
    "print(\"Rows after dropping missing critical fields:\", len(df))\n",
    "\n",
    "# Add time features for grouping\n",
    "\n",
    "df['year'] = df['date'].dt.year\n",
    "df['month'] = df['date'].dt.month\n",
    "df['year_month'] = df['date'].dt.to_period('M').astype(str)\n",
    "\n",
    "display(df[['order_id','date','product','price','quantity','revenue']].head())"
   ]
  },
  {
   "cell_type": "code",
   "execution_count": 28,
   "id": "1df03fde",
   "metadata": {},
   "outputs": [
    {
     "name": "stdout",
     "output_type": "stream",
     "text": [
      "Unique order_ids: 254\n",
      "Total rows (order lines): 254\n",
      "Total revenue sum: 769513.6945472348\n",
      "Top 5 products by quantity:\n"
     ]
    },
    {
     "data": {
      "text/plain": [
       "product\n",
       "Beverages             34983.050847\n",
       "Fries                 32034.383954\n",
       "Burgers               29022.324865\n",
       "Chicken Sandwiches    11135.678392\n",
       "Sides & Other          9819.639279\n",
       "Name: quantity, dtype: float64"
      ]
     },
     "metadata": {},
     "output_type": "display_data"
    },
    {
     "name": "stdout",
     "output_type": "stream",
     "text": [
      "Top 5 products by revenue:\n"
     ]
    },
    {
     "data": {
      "text/plain": [
       "product\n",
       "Burgers               377000.000000\n",
       "Fries                 125674.498567\n",
       "Chicken Sandwiches    114639.195980\n",
       "Beverages             103200.000000\n",
       "Sides & Other          49000.000000\n",
       "Name: revenue, dtype: float64"
      ]
     },
     "metadata": {},
     "output_type": "display_data"
    }
   ],
   "source": [
    "# Cell 5 — Sanity checks\n",
    "print(\"Unique order_ids:\", df['order_id'].nunique())\n",
    "print(\"Total rows (order lines):\", len(df))\n",
    "print(\"Total revenue sum:\", df['revenue'].sum())\n",
    "print(\"Top 5 products by quantity:\")\n",
    "display(df.groupby('product')['quantity'].sum().sort_values(ascending=False).head())\n",
    "\n",
    "print(\"Top 5 products by revenue:\")\n",
    "display(df.groupby('product')['revenue'].sum().sort_values(ascending=False).head())"
   ]
  },
  {
   "cell_type": "code",
   "execution_count": 29,
   "id": "6342cd5d",
   "metadata": {},
   "outputs": [
    {
     "name": "stdout",
     "output_type": "stream",
     "text": [
      "Most preferred payment method:  Credit Card\n"
     ]
    },
    {
     "data": {
      "text/plain": [
       " Credit Card    120\n",
       " Cash            76\n",
       " Gift Card       58\n",
       "Name: payment_method, dtype: int64"
      ]
     },
     "metadata": {},
     "output_type": "display_data"
    },
    {
     "data": {
      "image/png": "[encoded data removed]",
      "text/plain": [
       "<Figure size 640x480 with 1 Axes>"
      ]
     },
     "metadata": {},
     "output_type": "display_data"
    }
   ],
   "source": [
    "# Cell 6 — Q1 Payment method preference\n",
    "payment_counts = df['payment_method'].value_counts(dropna=True)\n",
    "print(\"Most preferred payment method:\", payment_counts.idxmax())\n",
    "display(payment_counts)\n",
    "\n",
    "# Save table and figure\n",
    "payment_counts.to_csv(TABLE_DIR / \"payment_method_counts.csv\")\n",
    "plt.figure()\n",
    "payment_counts.plot(kind='bar')\n",
    "plt.title(\"Payment Method Counts\")\n",
    "plt.xlabel(\"Payment Method\")\n",
    "plt.ylabel(\"Count\")\n",
    "plt.tight_layout()\n",
    "plt.savefig(FIG_DIR / \"payment_method_counts.png\", dpi=200)\n",
    "plt.show()"
   ]
  },
  {
   "cell_type": "code",
   "execution_count": 30,
   "id": "b20b7f35",
   "metadata": {},
   "outputs": [
    {
     "name": "stdout",
     "output_type": "stream",
     "text": [
      "Top product by quantity: Beverages — 34983.05084745763\n",
      "Top product by revenue: Burgers — 377000.0\n"
     ]
    },
    {
     "data": {
      "image/png": "[encoded data removed]",
      "text/plain": [
       "<Figure size 640x480 with 1 Axes>"
      ]
     },
     "metadata": {},
     "output_type": "display_data"
    },
    {
     "data": {
      "image/png": "[encoded data removed]",
      "text/plain": [
       "<Figure size 640x480 with 1 Axes>"
      ]
     },
     "metadata": {},
     "output_type": "display_data"
    }
   ],
   "source": [
    "# Cell 7 — Q2 Most selling product\n",
    "prod_by_qty = df.groupby('product', dropna=False)['quantity'].sum().sort_values(ascending=False)\n",
    "prod_by_rev = df.groupby('product', dropna=False)['revenue'].sum().sort_values(ascending=False)\n",
    "\n",
    "print(\"Top product by quantity:\", prod_by_qty.idxmax(), \"—\", prod_by_qty.max())\n",
    "print(\"Top product by revenue:\", prod_by_rev.idxmax(), \"—\", prod_by_rev.max())\n",
    "\n",
    "# Save tables and bar charts (top 10)\n",
    "prod_by_qty.to_csv(TABLE_DIR / \"product_by_quantity.csv\")\n",
    "prod_by_rev.to_csv(TABLE_DIR / \"product_by_revenue.csv\")\n",
    "\n",
    "plt.figure(); prod_by_qty.head(10).plot(kind='bar'); plt.title('Top 10 Products by Quantity'); plt.tight_layout();\n",
    "plt.savefig(FIG_DIR / \"top_products_by_quantity.png\", dpi=200); plt.show()\n",
    "\n",
    "plt.figure(); prod_by_rev.head(10).plot(kind='bar'); plt.title('Top 10 Products by Revenue'); plt.tight_layout();\n",
    "plt.savefig(FIG_DIR / \"top_products_by_revenue.png\", dpi=200); plt.show()"
   ]
  },
  {
   "cell_type": "code",
   "execution_count": 31,
   "id": "5e87cbb0",
   "metadata": {},
   "outputs": [
    {
     "name": "stdout",
     "output_type": "stream",
     "text": [
      "City with max revenue: Lisbon 241713.69454723474\n",
      "Manager with max revenue: Joao Silva 225074.49856733525\n"
     ]
    },
    {
     "data": {
      "image/png": "[encoded data removed]",
      "text/plain": [
       "<Figure size 640x480 with 1 Axes>"
      ]
     },
     "metadata": {},
     "output_type": "display_data"
    },
    {
     "data": {
      "image/png": "[encoded data removed]",
      "text/plain": [
       "<Figure size 640x480 with 1 Axes>"
      ]
     },
     "metadata": {},
     "output_type": "display_data"
    }
   ],
   "source": [
    "# Cell 8 — Q3 City & Manager with max revenue\n",
    "city_revenue = df.groupby('city')['revenue'].sum().sort_values(ascending=False)\n",
    "manager_revenue = df.groupby('manager')['revenue'].sum().sort_values(ascending=False)\n",
    "\n",
    "print(\"City with max revenue:\", city_revenue.idxmax(), city_revenue.max())\n",
    "print(\"Manager with max revenue:\", manager_revenue.idxmax(), manager_revenue.max())\n",
    "\n",
    "city_revenue.to_csv(TABLE_DIR / \"city_revenue.csv\")\n",
    "manager_revenue.to_csv(TABLE_DIR / \"manager_revenue.csv\")\n",
    "\n",
    "# Plot top 10\n",
    "plt.figure(); city_revenue.head(10).plot(kind='bar'); plt.title('Top Cities by Revenue'); plt.tight_layout()\n",
    "plt.savefig(FIG_DIR / \"revenue_by_city.png\", dpi=200); plt.show()\n",
    "\n",
    "plt.figure(); manager_revenue.head(10).plot(kind='bar'); plt.title('Top Managers by Revenue'); plt.tight_layout()\n",
    "plt.savefig(FIG_DIR / \"revenue_by_manager.png\", dpi=200); plt.show()"
   ]
  },
  {
   "cell_type": "code",
   "execution_count": 33,
   "id": "7cc5fa3f",
   "metadata": {},
   "outputs": [
    {
     "name": "stdout",
     "output_type": "stream",
     "text": [
      "Average revenue per order (mean): 3029.5814745954126\n",
      "Average revenue per row (line): 3029.5814745954126\n"
     ]
    }
   ],
   "source": [
    "# Cell 9 — Q4 Average revenue\n",
    "order_revenue = df.groupby('order_id')['revenue'].sum()\n",
    "avg_revenue_per_order = order_revenue.mean()\n",
    "print(\"Average revenue per order (mean):\", avg_revenue_per_order)\n",
    "\n",
    "# Overall average revenue per row:\n",
    "print(\"Average revenue per row (line):\", df['revenue'].mean())\n",
    "\n",
    "order_revenue.describe().to_csv(TABLE_DIR / \"order_revenue_summary.csv\")"
   ]
  },
  {
   "cell_type": "code",
   "execution_count": 35,
   "id": "8275ce8f",
   "metadata": {},
   "outputs": [
    {
     "name": "stdout",
     "output_type": "stream",
     "text": [
      "Rows in Nov/Dec: 254\n",
      "Average revenue per row (Nov & Dec): 3029.5814745954126\n",
      "Average revenue per order (Nov & Dec): 3029.5814745954126\n"
     ]
    }
   ],
   "source": [
    "# Cell 10 — Q5 Nov & Dec average revenue (per row AND per order)\n",
    "nov_dec = df[df['month'].isin([11,12])].copy()\n",
    "print(\"Rows in Nov/Dec:\", len(nov_dec))\n",
    "avg_rev_rows = nov_dec['revenue'].mean()\n",
    "print(\"Average revenue per row (Nov & Dec):\", avg_rev_rows)\n",
    "\n",
    "# Per order in Nov/Dec:\n",
    "order_revenue_nd = nov_dec.groupby('order_id')['revenue'].sum()\n",
    "print(\"Average revenue per order (Nov & Dec):\", order_revenue_nd.mean())"
   ]
  },
  {
   "cell_type": "code",
   "execution_count": 36,
   "id": "2dadb0fa",
   "metadata": {},
   "outputs": [
    {
     "name": "stdout",
     "output_type": "stream",
     "text": [
      "Revenue — std: 2420.12, var: 5857001.11\n",
      "Quantity — std: 214.89, var: 46177.52\n"
     ]
    }
   ],
   "source": [
    "# Cell 11 — Q6 & Q7 Dispersion\n",
    "revenue_std = df['revenue'].std()\n",
    "revenue_var = df['revenue'].var()\n",
    "quantity_std = df['quantity'].std()\n",
    "quantity_var = df['quantity'].var()\n",
    "\n",
    "print(f\"Revenue — std: {revenue_std:.2f}, var: {revenue_var:.2f}\")\n",
    "print(f\"Quantity — std: {quantity_std:.2f}, var: {quantity_var:.2f}\")\n",
    "\n",
    "# Save to summary table\n",
    "pd.Series({\n",
    "    'revenue_std': revenue_std, 'revenue_var': revenue_var,\n",
    "    'quantity_std': quantity_std, 'quantity_var': quantity_var\n",
    "}).to_frame('value').to_csv(TABLE_DIR / \"dispersion_stats.csv\")"
   ]
  },
  {
   "cell_type": "code",
   "execution_count": 37,
   "id": "93d313a9",
   "metadata": {},
   "outputs": [
    {
     "data": {
      "text/plain": [
       "year_month\n",
       "2022-11    332113.694547\n",
       "2022-12    437400.000000\n",
       "Name: revenue, dtype: float64"
      ]
     },
     "metadata": {},
     "output_type": "display_data"
    },
    {
     "name": "stdout",
     "output_type": "stream",
     "text": [
      "Slope: 105286.30545276514 Direction: increasing\n"
     ]
    },
    {
     "data": {
      "image/png": "[encoded data removed]",
      "text/plain": [
       "<Figure size 640x480 with 1 Axes>"
      ]
     },
     "metadata": {},
     "output_type": "display_data"
    }
   ],
   "source": [
    "# Cell 12 — Q8 Revenue trend\n",
    "monthly_revenue = df.groupby('year_month')['revenue'].sum().sort_index()\n",
    "display(monthly_revenue.head())\n",
    "\n",
    "# Determine direction via linear trend (slope)\n",
    "x = np.arange(len(monthly_revenue))\n",
    "y = monthly_revenue.values\n",
    "if len(x) >= 2:\n",
    "    slope = np.polyfit(x, y, 1)[0]\n",
    "    direction = \"increasing\" if slope > 0 else \"decreasing\" if slope < 0 else \"flat\"\n",
    "else:\n",
    "    slope = np.nan\n",
    "    direction = \"insufficient data\"\n",
    "\n",
    "print(\"Slope:\", slope, \"Direction:\", direction)\n",
    "\n",
    "# Plot\n",
    "plt.figure()\n",
    "monthly_revenue.plot(kind='line', marker='o')\n",
    "plt.title(\"Monthly Revenue Trend\")\n",
    "plt.xlabel(\"Year-Month\")\n",
    "plt.ylabel(\"Revenue\")\n",
    "plt.xticks(rotation=45)\n",
    "plt.tight_layout()\n",
    "plt.savefig(FIG_DIR / \"monthly_revenue_trend.png\", dpi=200)\n",
    "plt.show()\n",
    "\n",
    "# Save csv\n",
    "monthly_revenue.to_csv(TABLE_DIR / \"monthly_revenue.csv\")"
   ]
  },
  {
   "cell_type": "code",
   "execution_count": 39,
   "id": "b0de10c5",
   "metadata": {},
   "outputs": [
    {
     "data": {
      "text/html": [
       "<div>\n",
       "<style scoped>\n",
       "    .dataframe tbody tr th:only-of-type {\n",
       "        vertical-align: middle;\n",
       "    }\n",
       "\n",
       "    .dataframe tbody tr th {\n",
       "        vertical-align: top;\n",
       "    }\n",
       "\n",
       "    .dataframe thead th {\n",
       "        text-align: right;\n",
       "    }\n",
       "</style>\n",
       "<table border=\"1\" class=\"dataframe\">\n",
       "  <thead>\n",
       "    <tr style=\"text-align: right;\">\n",
       "      <th></th>\n",
       "      <th>avg_quantity</th>\n",
       "      <th>avg_revenue</th>\n",
       "      <th>total_quantity</th>\n",
       "      <th>total_revenue</th>\n",
       "      <th>n_orders</th>\n",
       "    </tr>\n",
       "    <tr>\n",
       "      <th>product</th>\n",
       "      <th></th>\n",
       "      <th></th>\n",
       "      <th></th>\n",
       "      <th></th>\n",
       "      <th></th>\n",
       "    </tr>\n",
       "  </thead>\n",
       "  <tbody>\n",
       "    <tr>\n",
       "      <th>Burgers</th>\n",
       "      <td>558.121632</td>\n",
       "      <td>7250.000000</td>\n",
       "      <td>29022.324865</td>\n",
       "      <td>377000.000000</td>\n",
       "      <td>52</td>\n",
       "    </tr>\n",
       "    <tr>\n",
       "      <th>Fries</th>\n",
       "      <td>628.125176</td>\n",
       "      <td>2464.205854</td>\n",
       "      <td>32034.383954</td>\n",
       "      <td>125674.498567</td>\n",
       "      <td>51</td>\n",
       "    </tr>\n",
       "    <tr>\n",
       "      <th>Chicken Sandwiches</th>\n",
       "      <td>214.147661</td>\n",
       "      <td>2204.599923</td>\n",
       "      <td>11135.678392</td>\n",
       "      <td>114639.195980</td>\n",
       "      <td>52</td>\n",
       "    </tr>\n",
       "    <tr>\n",
       "      <th>Beverages</th>\n",
       "      <td>699.661017</td>\n",
       "      <td>2064.000000</td>\n",
       "      <td>34983.050847</td>\n",
       "      <td>103200.000000</td>\n",
       "      <td>50</td>\n",
       "    </tr>\n",
       "    <tr>\n",
       "      <th>Sides &amp; Other</th>\n",
       "      <td>200.400802</td>\n",
       "      <td>1000.000000</td>\n",
       "      <td>9819.639279</td>\n",
       "      <td>49000.000000</td>\n",
       "      <td>49</td>\n",
       "    </tr>\n",
       "  </tbody>\n",
       "</table>\n",
       "</div>"
      ],
      "text/plain": [
       "                    avg_quantity  avg_revenue  total_quantity  total_revenue  \\\n",
       "product                                                                        \n",
       "Burgers               558.121632  7250.000000    29022.324865  377000.000000   \n",
       "Fries                 628.125176  2464.205854    32034.383954  125674.498567   \n",
       "Chicken Sandwiches    214.147661  2204.599923    11135.678392  114639.195980   \n",
       "Beverages             699.661017  2064.000000    34983.050847  103200.000000   \n",
       "Sides & Other         200.400802  1000.000000     9819.639279   49000.000000   \n",
       "\n",
       "                    n_orders  \n",
       "product                       \n",
       "Burgers                   52  \n",
       "Fries                     51  \n",
       "Chicken Sandwiches        52  \n",
       "Beverages                 50  \n",
       "Sides & Other             49  "
      ]
     },
     "metadata": {},
     "output_type": "display_data"
    }
   ],
   "source": [
    "# Cell 13 — Q9 Averages by product\n",
    "prod_agg = df.groupby('product').agg(\n",
    "    avg_quantity = ('quantity', 'mean'),\n",
    "    avg_revenue  = ('revenue', 'mean'),\n",
    "    total_quantity = ('quantity', 'sum'),\n",
    "    total_revenue = ('revenue', 'sum'),\n",
    "    n_orders = ('order_id', 'nunique')\n",
    ").sort_values('total_revenue', ascending=False)\n",
    "\n",
    "display(prod_agg.head(20))\n",
    "prod_agg.to_csv(TABLE_DIR / \"product_averages_and_totals.csv\")"
   ]
  },
  {
   "cell_type": "code",
   "execution_count": 40,
   "id": "2b789924",
   "metadata": {},
   "outputs": [
    {
     "name": "stdout",
     "output_type": "stream",
     "text": [
      "Total unique orders (order_id): 254\n"
     ]
    }
   ],
   "source": [
    "# Cell 14 — Q10 Total number of orders\n",
    "total_orders = df['order_id'].nunique()\n",
    "print(\"Total unique orders (order_id):\", total_orders)"
   ]
  },
  {
   "cell_type": "code",
   "execution_count": 41,
   "id": "71c25c7e",
   "metadata": {},
   "outputs": [
    {
     "data": {
      "text/html": [
       "<div>\n",
       "<style scoped>\n",
       "    .dataframe tbody tr th:only-of-type {\n",
       "        vertical-align: middle;\n",
       "    }\n",
       "\n",
       "    .dataframe tbody tr th {\n",
       "        vertical-align: top;\n",
       "    }\n",
       "\n",
       "    .dataframe thead th {\n",
       "        text-align: right;\n",
       "    }\n",
       "</style>\n",
       "<table border=\"1\" class=\"dataframe\">\n",
       "  <thead>\n",
       "    <tr style=\"text-align: right;\">\n",
       "      <th></th>\n",
       "      <th>value</th>\n",
       "    </tr>\n",
       "  </thead>\n",
       "  <tbody>\n",
       "    <tr>\n",
       "      <th>most_preferred_payment_method</th>\n",
       "      <td>Credit Card</td>\n",
       "    </tr>\n",
       "    <tr>\n",
       "      <th>top_product_by_quantity</th>\n",
       "      <td>Beverages</td>\n",
       "    </tr>\n",
       "    <tr>\n",
       "      <th>top_product_by_revenue</th>\n",
       "      <td>Burgers</td>\n",
       "    </tr>\n",
       "    <tr>\n",
       "      <th>city_with_max_revenue</th>\n",
       "      <td>Lisbon</td>\n",
       "    </tr>\n",
       "    <tr>\n",
       "      <th>manager_with_max_revenue</th>\n",
       "      <td>Joao Silva</td>\n",
       "    </tr>\n",
       "    <tr>\n",
       "      <th>average_revenue_per_order</th>\n",
       "      <td>3029.581475</td>\n",
       "    </tr>\n",
       "    <tr>\n",
       "      <th>average_revenue_nov_dec_per_order</th>\n",
       "      <td>3029.581475</td>\n",
       "    </tr>\n",
       "    <tr>\n",
       "      <th>revenue_std</th>\n",
       "      <td>2420.124193</td>\n",
       "    </tr>\n",
       "    <tr>\n",
       "      <th>revenue_var</th>\n",
       "      <td>5857001.108439</td>\n",
       "    </tr>\n",
       "    <tr>\n",
       "      <th>quantity_std</th>\n",
       "      <td>214.889551</td>\n",
       "    </tr>\n",
       "    <tr>\n",
       "      <th>quantity_var</th>\n",
       "      <td>46177.519254</td>\n",
       "    </tr>\n",
       "    <tr>\n",
       "      <th>revenue_trend_slope</th>\n",
       "      <td>105286.305453</td>\n",
       "    </tr>\n",
       "    <tr>\n",
       "      <th>revenue_trend_direction</th>\n",
       "      <td>increasing</td>\n",
       "    </tr>\n",
       "    <tr>\n",
       "      <th>total_orders</th>\n",
       "      <td>254</td>\n",
       "    </tr>\n",
       "  </tbody>\n",
       "</table>\n",
       "</div>"
      ],
      "text/plain": [
       "                                            value\n",
       "most_preferred_payment_method         Credit Card\n",
       "top_product_by_quantity                 Beverages\n",
       "top_product_by_revenue                    Burgers\n",
       "city_with_max_revenue                      Lisbon\n",
       "manager_with_max_revenue               Joao Silva\n",
       "average_revenue_per_order             3029.581475\n",
       "average_revenue_nov_dec_per_order     3029.581475\n",
       "revenue_std                           2420.124193\n",
       "revenue_var                        5857001.108439\n",
       "quantity_std                           214.889551\n",
       "quantity_var                         46177.519254\n",
       "revenue_trend_slope                 105286.305453\n",
       "revenue_trend_direction                increasing\n",
       "total_orders                                  254"
      ]
     },
     "metadata": {},
     "output_type": "display_data"
    }
   ],
   "source": [
    "# Cell 15 — Save metrics summary\n",
    "metrics = {\n",
    "    \"most_preferred_payment_method\": payment_counts.idxmax() if not payment_counts.empty else None,\n",
    "    \"top_product_by_quantity\": prod_by_qty.idxmax(),\n",
    "    \"top_product_by_revenue\": prod_by_rev.idxmax(),\n",
    "    \"city_with_max_revenue\": city_revenue.idxmax(),\n",
    "    \"manager_with_max_revenue\": manager_revenue.idxmax(),\n",
    "    \"average_revenue_per_order\": avg_revenue_per_order,\n",
    "    \"average_revenue_nov_dec_per_order\": order_revenue_nd.mean() if 'order_revenue_nd' in locals() and len(order_revenue_nd)>0 else None,\n",
    "    \"revenue_std\": revenue_std,\n",
    "    \"revenue_var\": revenue_var,\n",
    "    \"quantity_std\": quantity_std,\n",
    "    \"quantity_var\": quantity_var,\n",
    "    \"revenue_trend_slope\": slope,\n",
    "    \"revenue_trend_direction\": direction,\n",
    "    \"total_orders\": int(total_orders)\n",
    "}\n",
    "\n",
    "metrics_df = pd.DataFrame.from_dict(metrics, orient='index', columns=['value'])\n",
    "metrics_df.to_csv(TABLE_DIR / \"metrics_summary.csv\")\n",
    "display(metrics_df)"
   ]
  },
  {
   "cell_type": "code",
   "execution_count": 42,
   "id": "e1363af6",
   "metadata": {},
   "outputs": [
    {
     "ename": "SyntaxError",
     "evalue": "invalid syntax (3933690544.py, line 1)",
     "output_type": "error",
     "traceback": [
      "\u001b[1;36m  File \u001b[1;32m\"C:\\Users\\User\\AppData\\Local\\Temp\\ipykernel_33784\\3933690544.py\"\u001b[1;36m, line \u001b[1;32m1\u001b[0m\n\u001b[1;33m    jupyter nbconvert --to pdf your_notebook.ipynb\u001b[0m\n\u001b[1;37m            ^\u001b[0m\n\u001b[1;31mSyntaxError\u001b[0m\u001b[1;31m:\u001b[0m invalid syntax\n"
     ]
    }
   ],
   "source": [
    "jupyter nbconvert --to pdf your_notebook.ipynb"
   ]
  },
  {
   "cell_type": "code",
   "execution_count": null,
   "id": "de5e1dde",
   "metadata": {},
   "outputs": [],
   "source": []
  }
 ],
 "metadata": {
  "kernelspec": {
   "display_name": "Python 3 (ipykernel)",
   "language": "python",
   "name": "python3"
  },
  "language_info": {
   "codemirror_mode": {
    "name": "ipython",
    "version": 3
   },
   "file_extension": ".py",
   "mimetype": "text/x-python",
   "name": "python",
   "nbconvert_exporter": "python",
   "pygments_lexer": "ipython3",
   "version": "3.9.13"
  }
 },
 "nbformat": 4,
 "nbformat_minor": 5
}
